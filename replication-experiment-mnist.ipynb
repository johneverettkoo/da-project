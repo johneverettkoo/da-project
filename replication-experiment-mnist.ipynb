{
 "cells": [
  {
   "cell_type": "code",
   "execution_count": 1,
   "metadata": {},
   "outputs": [
    {
     "name": "stderr",
     "output_type": "stream",
     "text": [
      "Using TensorFlow backend.\n"
     ]
    }
   ],
   "source": [
    "from functions import extract_gist_features, diversity_experiment\n",
    "import numpy as np\n",
    "import pandas as pd\n",
    "import seaborn as sns\n",
    "import os\n",
    "import tensorflow as tf"
   ]
  },
  {
   "cell_type": "code",
   "execution_count": 2,
   "metadata": {},
   "outputs": [],
   "source": [
    "# --- constants/globals --- #\n",
    "\n",
    "# parameter for gist features\n",
    "NBLOCKS = 4\n",
    "\n",
    "# training hyperparameters\n",
    "LR = .01\n",
    "MOMENTUM = .9\n",
    "BATCH_SIZE = 32\n",
    "RUNS = 10\n",
    "PATIENCE = 2\n",
    "\n",
    "# dataset parameters\n",
    "TRAIN_SIZES = [10, 25, 50, 100, 250, 500]\n",
    "VAL_SIZE = 1000\n",
    "RUNS = 10"
   ]
  },
  {
   "cell_type": "code",
   "execution_count": 3,
   "metadata": {},
   "outputs": [],
   "source": [
    "# load the cifar-10 data\n",
    "mnist = tf.keras.datasets.mnist\n",
    "(x_train, y_train), (x_test, y_test) = mnist.load_data()\n",
    "\n",
    "# reshape to have channels\n",
    "x_train = x_train.reshape([x_train.shape[0], \n",
    "                           x_train.shape[1], \n",
    "                           x_train.shape[2], \n",
    "                           1])\n",
    "x_train = np.concatenate([x_train, x_train, x_train], 3)\n",
    "y_train = y_train.reshape([y_train.shape[0], 1])\n",
    "x_test = x_test.reshape([x_test.shape[0], \n",
    "                         x_test.shape[1], \n",
    "                         x_test.shape[2], \n",
    "                         1])\n",
    "x_test = np.concatenate([x_test, x_test, x_test], 3)\n",
    "y_test = y_test.reshape([y_test.shape[0], 1])\n",
    "\n",
    "# vgg16 requires at least 32x32\n",
    "x_train = np.pad(x_train,\n",
    "                 ((0, 0), (2, 2), (2, 2), (0, 0)), \n",
    "                 'constant', constant_values=0)\n",
    "x_test = np.pad(x_test, \n",
    "                ((0, 0), (2, 2), (2, 2), (0, 0)), \n",
    "                'constant', constant_values=0)"
   ]
  },
  {
   "cell_type": "code",
   "execution_count": 4,
   "metadata": {},
   "outputs": [],
   "source": [
    "# extract gist features\n",
    "if 'mnist_gist_features.npy' not in os.listdir():\n",
    "    x_gist = extract_gist_features(x_train, \n",
    "                                   NBLOCKS)\n",
    "    np.save('./mnist_gist_features.npy', x_gist)\n",
    "else:\n",
    "    x_gist = np.load('mnist_gist_features.npy')"
   ]
  },
  {
   "cell_type": "code",
   "execution_count": 5,
   "metadata": {
    "scrolled": false
   },
   "outputs": [
    {
     "name": "stdout",
     "output_type": "stream",
     "text": [
      "performing experiment for train size=10\n",
      "performing experiment for train size=25\n",
      "performing experiment for train size=50\n",
      "performing experiment for train size=100\n",
      "performing experiment for train size=250\n",
      "performing experiment for train size=500\n"
     ]
    }
   ],
   "source": [
    "# perform experiment\n",
    "results_df = diversity_experiment(x_train, y_train, x_gist, \n",
    "                                  x_test, y_test, \n",
    "                                  train_sizes=TRAIN_SIZES,\n",
    "                                  val_size=VAL_SIZE,\n",
    "                                  runs=RUNS,\n",
    "                                  lr=LR, momentum=MOMENTUM, \n",
    "                                  batch_size=BATCH_SIZE,\n",
    "                                  patience=PATIENCE,\n",
    "                                  verbose=0)"
   ]
  },
  {
   "cell_type": "code",
   "execution_count": 6,
   "metadata": {},
   "outputs": [],
   "source": [
    "results_df.to_csv('mnist-results.csv')"
   ]
  },
  {
   "cell_type": "code",
   "execution_count": 7,
   "metadata": {},
   "outputs": [
    {
     "data": {
      "text/plain": [
       "<matplotlib.axes._subplots.AxesSubplot at 0x7ff5d4895198>"
      ]
     },
     "execution_count": 7,
     "metadata": {},
     "output_type": "execute_result"
    },
    {
     "data": {
      "image/png": "[encoded data removed]",
      "text/plain": [
       "<Figure size 432x288 with 1 Axes>"
      ]
     },
     "metadata": {
      "needs_background": "light"
     },
     "output_type": "display_data"
    }
   ],
   "source": [
    "sns.lineplot(data=results_df, \n",
    "             x='train_size', y='accuracy', hue='train_set_type',\n",
    "             err_style='bars')"
   ]
  },
  {
   "cell_type": "code",
   "execution_count": null,
   "metadata": {},
   "outputs": [],
   "source": []
  }
 ],
 "metadata": {
  "kernelspec": {
   "display_name": "Python 3",
   "language": "python",
   "name": "python3"
  },
  "language_info": {
   "codemirror_mode": {
    "name": "ipython",
    "version": 3
   },
   "file_extension": ".py",
   "mimetype": "text/x-python",
   "name": "python",
   "nbconvert_exporter": "python",
   "pygments_lexer": "ipython3",
   "version": "3.6.7"
  }
 },
 "nbformat": 4,
 "nbformat_minor": 2
}

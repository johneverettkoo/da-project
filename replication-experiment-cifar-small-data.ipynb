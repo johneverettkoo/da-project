{
 "cells": [
  {
   "cell_type": "code",
   "execution_count": 1,
   "metadata": {},
   "outputs": [
    {
     "name": "stderr",
     "output_type": "stream",
     "text": [
      "Using TensorFlow backend.\n"
     ]
    }
   ],
   "source": [
    "from functions import extract_gist_features, diversity_experiment\n",
    "import numpy as np\n",
    "import pandas as pd\n",
    "import seaborn as sns\n",
    "import os\n",
    "import tensorflow as tf"
   ]
  },
  {
   "cell_type": "code",
   "execution_count": 2,
   "metadata": {},
   "outputs": [],
   "source": [
    "# --- constants/globals --- #\n",
    "\n",
    "# parameter for gist features\n",
    "NBLOCKS = 4\n",
    "\n",
    "# training hyperparameters\n",
    "LR = .001\n",
    "MOMENTUM = .9\n",
    "BATCH_SIZE = 32\n",
    "RUNS = 10\n",
    "PATIENCE = 2\n",
    "\n",
    "# dataset parameters\n",
    "TRAIN_SIZES = [10, 20, 30, 40, 50]\n",
    "VAL_SIZE = 1000\n",
    "RUNS = 10"
   ]
  },
  {
   "cell_type": "code",
   "execution_count": 3,
   "metadata": {},
   "outputs": [],
   "source": [
    "# load the cifar-10 data\n",
    "cifar = tf.keras.datasets.cifar10\n",
    "(x_train, y_train), (x_test, y_test) = cifar.load_data()"
   ]
  },
  {
   "cell_type": "code",
   "execution_count": 4,
   "metadata": {},
   "outputs": [],
   "source": [
    "# extract gist features\n",
    "if 'cifar_gist_features.npy' not in os.listdir():\n",
    "    x_gist = extract_gist_features(x_train, NBLOCKS)\n",
    "    np.save('./cifar_gist_features.npy', x_gist)\n",
    "else:\n",
    "    x_gist = np.load('cifar_gist_features.npy')"
   ]
  },
  {
   "cell_type": "code",
   "execution_count": 5,
   "metadata": {
    "scrolled": true
   },
   "outputs": [
    {
     "name": "stdout",
     "output_type": "stream",
     "text": [
      "performing experiment for train size=10\n",
      "performing experiment for train size=20\n",
      "performing experiment for train size=30\n",
      "performing experiment for train size=40\n",
      "performing experiment for train size=50\n"
     ]
    }
   ],
   "source": [
    "# perform experiment\n",
    "results_df = diversity_experiment(x_train, y_train, \n",
    "                                  x_gist, x_test, y_test, \n",
    "                                  train_sizes=TRAIN_SIZES,\n",
    "                                  val_size=VAL_SIZE,\n",
    "                                  runs=RUNS,\n",
    "                                  lr=LR, momentum=MOMENTUM, \n",
    "                                  batch_size=BATCH_SIZE,\n",
    "                                  patience=PATIENCE,\n",
    "                                  verbose=0)"
   ]
  },
  {
   "cell_type": "code",
   "execution_count": 6,
   "metadata": {},
   "outputs": [],
   "source": [
    "results_df.to_csv('cifar-results-small-data.csv')"
   ]
  },
  {
   "cell_type": "code",
   "execution_count": 7,
   "metadata": {},
   "outputs": [
    {
     "data": {
      "text/plain": [
       "<matplotlib.axes._subplots.AxesSubplot at 0x7fec205727f0>"
      ]
     },
     "execution_count": 7,
     "metadata": {},
     "output_type": "execute_result"
    },
    {
     "data": {
      "image/png": "[encoded data removed]",
      "text/plain": [
       "<Figure size 432x288 with 1 Axes>"
      ]
     },
     "metadata": {
      "needs_background": "light"
     },
     "output_type": "display_data"
    }
   ],
   "source": [
    "sns.lineplot(data=results_df, \n",
    "             x='train_size', y='accuracy', hue='train_set_type',\n",
    "             err_style='bars')"
   ]
  },
  {
   "cell_type": "code",
   "execution_count": null,
   "metadata": {},
   "outputs": [],
   "source": []
  }
 ],
 "metadata": {
  "kernelspec": {
   "display_name": "Python 3",
   "language": "python",
   "name": "python3"
  },
  "language_info": {
   "codemirror_mode": {
    "name": "ipython",
    "version": 3
   },
   "file_extension": ".py",
   "mimetype": "text/x-python",
   "name": "python",
   "nbconvert_exporter": "python",
   "pygments_lexer": "ipython3",
   "version": "3.6.7"
  }
 },
 "nbformat": 4,
 "nbformat_minor": 2
}

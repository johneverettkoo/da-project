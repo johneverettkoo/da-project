{
 "cells": [
  {
   "cell_type": "code",
   "execution_count": 1,
   "metadata": {},
   "outputs": [
    {
     "name": "stderr",
     "output_type": "stream",
     "text": [
      "Using TensorFlow backend.\n"
     ]
    }
   ],
   "source": [
    "from functions import extract_gist_features, diversity_experiment\n",
    "import numpy as np\n",
    "import pandas as pd\n",
    "import seaborn as sns\n",
    "import os\n",
    "import tensorflow as tf"
   ]
  },
  {
   "cell_type": "code",
   "execution_count": 2,
   "metadata": {},
   "outputs": [],
   "source": [
    "# --- constants/globals --- #\n",
    "\n",
    "# parameter for gist features\n",
    "NBLOCKS = 4\n",
    "\n",
    "# training hyperparameters\n",
    "LR = .0005\n",
    "MOMENTUM = .9\n",
    "BATCH_SIZE = 32\n",
    "RUNS = 10\n",
    "PATIENCE = 2\n",
    "\n",
    "# dataset parameters\n",
    "TRAIN_SIZES = [10, 20, 30, 40, 50]\n",
    "VAL_SIZE = 1000\n",
    "RUNS = 10"
   ]
  },
  {
   "cell_type": "code",
   "execution_count": 3,
   "metadata": {},
   "outputs": [],
   "source": [
    "# load the cifar-10 data\n",
    "cifar = tf.keras.datasets.cifar10\n",
    "(x_train, y_train), (x_test, y_test) = cifar.load_data()"
   ]
  },
  {
   "cell_type": "code",
   "execution_count": 4,
   "metadata": {},
   "outputs": [],
   "source": [
    "# extract gist features\n",
    "if 'cifar_gist_features.npy' not in os.listdir():\n",
    "    x_gist = extract_gist_features(x_train, NBLOCKS)\n",
    "    np.save('./cifar_gist_features.npy', x_gist)\n",
    "else:\n",
    "    x_gist = np.load('cifar_gist_features.npy')"
   ]
  },
  {
   "cell_type": "code",
   "execution_count": 5,
   "metadata": {
    "scrolled": false
   },
   "outputs": [
    {
     "name": "stdout",
     "output_type": "stream",
     "text": [
      "performing experiment for train size=10\n",
      "diverse accuracy: [0.2413]\n",
      "similar accuracy: [0.2459]\n",
      "diverse accuracy: [0.2369]\n",
      "similar accuracy: [0.2135]\n",
      "diverse accuracy: [0.2276]\n",
      "similar accuracy: [0.2663]\n",
      "diverse accuracy: [0.2323]\n",
      "similar accuracy: [0.2159]\n",
      "diverse accuracy: [0.2824]\n",
      "similar accuracy: [0.2459]\n",
      "diverse accuracy: [0.2793]\n",
      "similar accuracy: [0.1254]\n",
      "diverse accuracy: [0.2169]\n",
      "similar accuracy: [0.2668]\n",
      "diverse accuracy: [0.247]\n",
      "similar accuracy: [0.1936]\n",
      "diverse accuracy: [0.2118]\n",
      "similar accuracy: [0.2026]\n",
      "diverse accuracy: [0.2325]\n",
      "similar accuracy: [0.2]\n",
      "performing experiment for train size=20\n",
      "diverse accuracy: [0.1925]\n",
      "similar accuracy: [0.308]\n",
      "diverse accuracy: [0.295]\n",
      "similar accuracy: [0.2977]\n",
      "diverse accuracy: [0.268]\n",
      "similar accuracy: [0.31]\n",
      "diverse accuracy: [0.3102]\n",
      "similar accuracy: [0.2143]\n",
      "diverse accuracy: [0.2688]\n",
      "similar accuracy: [0.2766]\n",
      "diverse accuracy: [0.2897]\n",
      "similar accuracy: [0.2741]\n",
      "diverse accuracy: [0.2188]\n",
      "similar accuracy: [0.2944]\n",
      "diverse accuracy: [0.2917]\n",
      "similar accuracy: [0.24]\n",
      "diverse accuracy: [0.1954]\n",
      "similar accuracy: [0.2433]\n",
      "diverse accuracy: [0.2309]\n",
      "similar accuracy: [0.2219]\n",
      "performing experiment for train size=30\n",
      "diverse accuracy: [0.2414]\n",
      "similar accuracy: [0.3224]\n",
      "diverse accuracy: [0.2895]\n",
      "similar accuracy: [0.2708]\n",
      "diverse accuracy: [0.303]\n",
      "similar accuracy: [0.3248]\n",
      "diverse accuracy: [0.2592]\n",
      "similar accuracy: [0.2158]\n",
      "diverse accuracy: [0.3315]\n",
      "similar accuracy: [0.3192]\n",
      "diverse accuracy: [0.2693]\n",
      "similar accuracy: [0.3064]\n",
      "diverse accuracy: [0.3041]\n",
      "similar accuracy: [0.3161]\n",
      "diverse accuracy: [0.3227]\n",
      "similar accuracy: [0.2936]\n",
      "diverse accuracy: [0.2828]\n",
      "similar accuracy: [0.2684]\n",
      "diverse accuracy: [0.2892]\n",
      "similar accuracy: [0.2687]\n",
      "performing experiment for train size=40\n",
      "diverse accuracy: [0.306]\n",
      "similar accuracy: [0.3204]\n",
      "diverse accuracy: [0.2921]\n",
      "similar accuracy: [0.3181]\n",
      "diverse accuracy: [0.354]\n",
      "similar accuracy: [0.3038]\n",
      "diverse accuracy: [0.3424]\n",
      "similar accuracy: [0.3435]\n",
      "diverse accuracy: [0.2985]\n",
      "similar accuracy: [0.3951]\n",
      "diverse accuracy: [0.3636]\n",
      "similar accuracy: [0.3377]\n",
      "diverse accuracy: [0.3349]\n",
      "similar accuracy: [0.3862]\n",
      "diverse accuracy: [0.3555]\n",
      "similar accuracy: [0.3507]\n",
      "diverse accuracy: [0.3466]\n",
      "similar accuracy: [0.2569]\n",
      "diverse accuracy: [0.3891]\n",
      "similar accuracy: [0.2521]\n",
      "performing experiment for train size=50\n",
      "diverse accuracy: [0.3977]\n",
      "similar accuracy: [0.3848]\n",
      "diverse accuracy: [0.3412]\n",
      "similar accuracy: [0.3342]\n",
      "diverse accuracy: [0.3291]\n",
      "similar accuracy: [0.3883]\n",
      "diverse accuracy: [0.3511]\n",
      "similar accuracy: [0.3728]\n",
      "diverse accuracy: [0.3746]\n",
      "similar accuracy: [0.3601]\n",
      "diverse accuracy: [0.3655]\n",
      "similar accuracy: [0.378]\n",
      "diverse accuracy: [0.2935]\n",
      "similar accuracy: [0.4161]\n",
      "diverse accuracy: [0.3679]\n",
      "similar accuracy: [0.3369]\n",
      "diverse accuracy: [0.3235]\n",
      "similar accuracy: [0.3112]\n",
      "diverse accuracy: [0.3775]\n",
      "similar accuracy: [0.4129]\n"
     ]
    }
   ],
   "source": [
    "# perform experiment\n",
    "results_df = diversity_experiment(x_train, y_train, \n",
    "                                  x_gist, x_test, y_test, \n",
    "                                  train_sizes=TRAIN_SIZES,\n",
    "                                  val_size=VAL_SIZE,\n",
    "                                  runs=RUNS,\n",
    "                                  lr=LR, momentum=MOMENTUM, \n",
    "                                  batch_size=BATCH_SIZE,\n",
    "                                  patience=PATIENCE,\n",
    "                                  verbose=0)"
   ]
  },
  {
   "cell_type": "code",
   "execution_count": 6,
   "metadata": {},
   "outputs": [],
   "source": [
    "results_df.to_csv('cifar-results-small-data.csv')"
   ]
  },
  {
   "cell_type": "code",
   "execution_count": 7,
   "metadata": {},
   "outputs": [
    {
     "data": {
      "text/plain": [
       "<matplotlib.axes._subplots.AxesSubplot at 0x7ff32ba42828>"
      ]
     },
     "execution_count": 7,
     "metadata": {},
     "output_type": "execute_result"
    },
    {
     "data": {
      "image/png": "[encoded data removed]",
      "text/plain": [
       "<Figure size 432x288 with 1 Axes>"
      ]
     },
     "metadata": {
      "needs_background": "light"
     },
     "output_type": "display_data"
    }
   ],
   "source": [
    "sns.lineplot(data=results_df, \n",
    "             x='train_size', y='accuracy', hue='train_set_type',\n",
    "             err_style='bars')"
   ]
  },
  {
   "cell_type": "code",
   "execution_count": null,
   "metadata": {},
   "outputs": [],
   "source": []
  }
 ],
 "metadata": {
  "kernelspec": {
   "display_name": "Python 3",
   "language": "python",
   "name": "python3"
  },
  "language_info": {
   "codemirror_mode": {
    "name": "ipython",
    "version": 3
   },
   "file_extension": ".py",
   "mimetype": "text/x-python",
   "name": "python",
   "nbconvert_exporter": "python",
   "pygments_lexer": "ipython3",
   "version": "3.6.7"
  }
 },
 "nbformat": 4,
 "nbformat_minor": 2
}

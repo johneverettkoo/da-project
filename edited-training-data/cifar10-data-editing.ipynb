{
 "cells": [
  {
   "cell_type": "code",
   "execution_count": null,
   "metadata": {},
   "outputs": [],
   "source": [
    "import os\n",
    "import numpy as np\n",
    "from sklearn import decomposition\n",
    "import tensorflow as tf\n",
    "from sklearn.neighbors import KNeighborsClassifier"
   ]
  },
  {
   "cell_type": "code",
   "execution_count": 2,
   "metadata": {},
   "outputs": [],
   "source": [
    "cifar = tf.keras.datasets.cifar10\n",
    "(x_train, y_train), (x_test, y_test) = cifar.load_data()\n",
    "\n",
    "x_gist = np.load('../cifar_gist_features.npy')\n",
    "x_flat = x_train.reshape(x_train.shape[0], x_train.shape[1] * x_train.shape[2] * x_train.shape[3])"
   ]
  },
  {
   "cell_type": "code",
   "execution_count": 3,
   "metadata": {},
   "outputs": [],
   "source": [
    "pca_gist = decomposition.PCA(n_components=100)\n",
    "pca_gist.fit(x_gist)\n",
    "x_gist_pca = pca_gist.transform(x_gist)\n",
    "\n",
    "knn_gist = KNeighborsClassifier(n_neighbors=5, n_jobs=4)\n",
    "knn_gist.fit(x_gist_pca, y_train.flatten())\n",
    "y_hat_gist = knn_gist.predict(x_gist_pca)\n",
    "\n",
    "removal_ind_gist = np.where(y_train.flatten() != y_hat_gist)[0]\n",
    "np.save('gist-5nn-removal-indices.npy', removal_ind_gist)"
   ]
  },
  {
   "cell_type": "code",
   "execution_count": 4,
   "metadata": {},
   "outputs": [],
   "source": [
    "pca_flat = decomposition.KernelPCA(n_components=100)\n",
    "pca_flat.fit(x_flat)\n",
    "x_flat_pca = pca_flat.transform(x_flat)\n",
    "\n",
    "knn_flat = KNeighborsClassifier(n_neighbors=5, n_jobs=4)\n",
    "knn_flat.fit(x_flat_pca, y_train.flatten())\n",
    "y_hat_flat = knn_gist.predict(x_flat_pca)\n",
    "\n",
    "removal_ind_flat = np.where(y_train.flatten() != y_hat_flat)[0]\n",
    "np.save('flat-5nn-removal-indices.npy', removal_ind_flat)"
   ]
  },
  {
   "cell_type": "code",
   "execution_count": null,
   "metadata": {},
   "outputs": [],
   "source": []
  }
 ],
 "metadata": {
  "kernelspec": {
   "display_name": "Python 3",
   "language": "python",
   "name": "python3"
  },
  "language_info": {
   "codemirror_mode": {
    "name": "ipython",
    "version": 3
   },
   "file_extension": ".py",
   "mimetype": "text/x-python",
   "name": "python",
   "nbconvert_exporter": "python",
   "pygments_lexer": "ipython3",
   "version": "3.6.7"
  }
 },
 "nbformat": 4,
 "nbformat_minor": 2
}

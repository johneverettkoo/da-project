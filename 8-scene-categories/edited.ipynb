{
 "cells": [
  {
   "cell_type": "code",
   "execution_count": 1,
   "metadata": {},
   "outputs": [],
   "source": [
    "import numpy as np\n",
    "import pandas as pd\n",
    "import seaborn as sns\n",
    "import os\n",
    "import tensorflow as tf\n",
    "from sklearn import preprocessing\n",
    "from skimage.transform import resize"
   ]
  },
  {
   "cell_type": "code",
   "execution_count": 2,
   "metadata": {},
   "outputs": [
    {
     "name": "stderr",
     "output_type": "stream",
     "text": [
      "Using TensorFlow backend.\n"
     ]
    }
   ],
   "source": [
    "cwd = os.getcwd()\n",
    "os.chdir('..')\n",
    "from functions import diversity_experiment_edited\n",
    "os.chdir(cwd)"
   ]
  },
  {
   "cell_type": "code",
   "execution_count": 3,
   "metadata": {},
   "outputs": [],
   "source": [
    "# --- constants/globals --- #\n",
    "\n",
    "# training hyperparameters\n",
    "LR = .001\n",
    "MOMENTUM = .9\n",
    "BATCH_SIZE = 32\n",
    "RUNS = 10\n",
    "PATIENCE = 2\n",
    "\n",
    "# dataset parameters\n",
    "TRAIN_SIZES = [5, 10, 20, 30, 40, 50]\n",
    "TRAIN_SIZES.reverse()\n",
    "VAL_PROP = .5"
   ]
  },
  {
   "cell_type": "code",
   "execution_count": 4,
   "metadata": {},
   "outputs": [],
   "source": [
    "x_train = np.load('x-train.npy')\n",
    "x_test = np.load('x-test.npy')"
   ]
  },
  {
   "cell_type": "code",
   "execution_count": 5,
   "metadata": {},
   "outputs": [],
   "source": [
    "y_train = np.load('y-train.npy')\n",
    "y_test = np.load('y-test.npy')"
   ]
  },
  {
   "cell_type": "code",
   "execution_count": 6,
   "metadata": {},
   "outputs": [],
   "source": [
    "x_train_resized = []\n",
    "x_test_resized = []\n",
    "for image in x_train:\n",
    "    new_image = resize(image, (128, 128), 0)\n",
    "    x_train_resized.append(new_image)\n",
    "for image in x_test:\n",
    "    new_image = resize(image, (128, 128), 0)\n",
    "    x_test_resized.append(new_image)"
   ]
  },
  {
   "cell_type": "code",
   "execution_count": 7,
   "metadata": {},
   "outputs": [],
   "source": [
    "x_train = np.stack(x_train_resized, axis=0)\n",
    "x_test = np.stack(x_test_resized, axis=0)"
   ]
  },
  {
   "cell_type": "code",
   "execution_count": 8,
   "metadata": {},
   "outputs": [],
   "source": [
    "le = preprocessing.LabelEncoder()\n",
    "le.fit(y_train)\n",
    "y_train = le.transform(y_train)\n",
    "y_test = le.transform(y_test)"
   ]
  },
  {
   "cell_type": "code",
   "execution_count": 9,
   "metadata": {},
   "outputs": [],
   "source": [
    "y_train = y_train.reshape(y_train.shape[0], 1)\n",
    "y_test = y_test.reshape(y_test.shape[0], 1)"
   ]
  },
  {
   "cell_type": "code",
   "execution_count": 10,
   "metadata": {},
   "outputs": [],
   "source": [
    "gist_train = np.load('gist-train.npy')"
   ]
  },
  {
   "cell_type": "code",
   "execution_count": 11,
   "metadata": {},
   "outputs": [],
   "source": [
    "x_train = x_train * 255\n",
    "x_test = x_test * 255\n",
    "# x_train = x_train.astype('uint8')\n",
    "# x_test = x_test.astype('uint8')"
   ]
  },
  {
   "cell_type": "code",
   "execution_count": 12,
   "metadata": {},
   "outputs": [],
   "source": [
    "remove_ind = np.load('10nn-removal-indices.npy')"
   ]
  },
  {
   "cell_type": "code",
   "execution_count": 13,
   "metadata": {},
   "outputs": [
    {
     "name": "stdout",
     "output_type": "stream",
     "text": [
      "performing experiment for train size = 50\n",
      "performing experiment for train size = 40\n",
      "performing experiment for train size = 30\n",
      "performing experiment for train size = 20\n",
      "performing experiment for train size = 10\n",
      "performing experiment for train size = 5\n"
     ]
    }
   ],
   "source": [
    "results_df = diversity_experiment_edited(x_train, y_train,\n",
    "                                         gist_train, \n",
    "                                         x_test, y_test,\n",
    "                                         remove_ind,\n",
    "                                         TRAIN_SIZES, VAL_PROP,\n",
    "                                         RUNS,\n",
    "                                         LR, MOMENTUM,\n",
    "                                         BATCH_SIZE, PATIENCE, \n",
    "                                         verbose=0)"
   ]
  },
  {
   "cell_type": "code",
   "execution_count": 14,
   "metadata": {},
   "outputs": [
    {
     "data": {
      "text/plain": [
       "<matplotlib.axes._subplots.AxesSubplot at 0x7fccc9215780>"
      ]
     },
     "execution_count": 14,
     "metadata": {},
     "output_type": "execute_result"
    },
    {
     "data": {
      "image/png": "[encoded data removed]",
      "text/plain": [
       "<Figure size 432x288 with 1 Axes>"
      ]
     },
     "metadata": {
      "needs_background": "light"
     },
     "output_type": "display_data"
    }
   ],
   "source": [
    "sns.lineplot(data=results_df, \n",
    "             x='train_size', y='accuracy', hue='train_set_type',\n",
    "             err_style='bars')"
   ]
  },
  {
   "cell_type": "code",
   "execution_count": 15,
   "metadata": {},
   "outputs": [],
   "source": [
    "results_df.to_csv('8scenes-edited-results.csv')"
   ]
  },
  {
   "cell_type": "code",
   "execution_count": null,
   "metadata": {},
   "outputs": [],
   "source": []
  }
 ],
 "metadata": {
  "kernelspec": {
   "display_name": "Python 3",
   "language": "python",
   "name": "python3"
  },
  "language_info": {
   "codemirror_mode": {
    "name": "ipython",
    "version": 3
   },
   "file_extension": ".py",
   "mimetype": "text/x-python",
   "name": "python",
   "nbconvert_exporter": "python",
   "pygments_lexer": "ipython3",
   "version": "3.6.7"
  }
 },
 "nbformat": 4,
 "nbformat_minor": 2
}

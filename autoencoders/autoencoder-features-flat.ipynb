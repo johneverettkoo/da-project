{
 "cells": [
  {
   "cell_type": "markdown",
   "metadata": {},
   "source": [
    "Largely based on https://blog.keras.io/building-autoencoders-in-keras.html\n",
    "\n",
    "Using a U-Net based architecture (https://arxiv.org/abs/1505.04597)"
   ]
  },
  {
   "cell_type": "code",
   "execution_count": 1,
   "metadata": {},
   "outputs": [
    {
     "name": "stderr",
     "output_type": "stream",
     "text": [
      "Using TensorFlow backend.\n"
     ]
    }
   ],
   "source": [
    "import numpy as np\n",
    "import os\n",
    "from matplotlib import pyplot as plt\n",
    "from keras.layers import Input, Dense, Conv2D, MaxPooling2D, UpSampling2D, BatchNormalization\n",
    "from keras.models import Model\n",
    "from keras import backend as K\n",
    "from keras.datasets import cifar10\n",
    "from sklearn.model_selection import train_test_split\n",
    "from keras.callbacks import EarlyStopping"
   ]
  },
  {
   "cell_type": "code",
   "execution_count": 2,
   "metadata": {},
   "outputs": [],
   "source": [
    "size = 1"
   ]
  },
  {
   "cell_type": "code",
   "execution_count": 3,
   "metadata": {},
   "outputs": [],
   "source": [
    "(x_train_val, y_train_val), (x_test, y_test) = cifar10.load_data()\n",
    "\n",
    "x_train_val = x_train_val.astype('float32') / 255.\n",
    "x_test = x_test.astype('float32') / 255."
   ]
  },
  {
   "cell_type": "code",
   "execution_count": 4,
   "metadata": {},
   "outputs": [],
   "source": [
    "x_train, x_val, y_train, y_val = train_test_split(x_train_val, y_train_val, random_state=314159)"
   ]
  },
  {
   "cell_type": "code",
   "execution_count": 5,
   "metadata": {},
   "outputs": [],
   "source": [
    "input_img = Input(shape=(x_train.shape[1], x_train.shape[2], x_train.shape[3]))\n",
    "\n",
    "x = Conv2D(8 * size, (3, 3), activation='relu', padding='same')(input_img)\n",
    "x = Conv2D(8 * size, (3, 3), activation='relu', padding='same')(x)\n",
    "x = Conv2D(8 * size, (3, 3), activation='relu', padding='same')(x)\n",
    "x = BatchNormalization()(x)\n",
    "x = MaxPooling2D((2, 2))(x)\n",
    "x = Conv2D(16 * size, (3, 3), activation='relu', padding='same')(x)\n",
    "x = Conv2D(16 * size, (3, 3), activation='relu', padding='same')(x)\n",
    "x = Conv2D(16 * size, (3, 3), activation='relu', padding='same')(x)\n",
    "x = BatchNormalization()(x)\n",
    "x = MaxPooling2D((2, 2))(x)\n",
    "x = Conv2D(32 * size, (3, 3), activation='relu', padding='same')(x)\n",
    "x = Conv2D(32 * size, (3, 3), activation='relu', padding='same')(x)\n",
    "x = Conv2D(32 * size, (3, 3), activation='relu', padding='same')(x)\n",
    "x = BatchNormalization()(x)\n",
    "x = MaxPooling2D((2, 2))(x)\n",
    "x = Conv2D(64 * size, (3, 3), activation='relu', padding='same')(x)\n",
    "x = Conv2D(64 * size, (3, 3), activation='relu', padding='same')(x)\n",
    "x = Conv2D(64 * size, (3, 3), activation='relu', padding='same')(x)\n",
    "x = BatchNormalization()(x)\n",
    "x = MaxPooling2D((2, 2))(x)\n",
    "# x = Conv2D(128 * size, (3, 3), activation='relu', padding='same')(x)\n",
    "# x = Conv2D(128 * size, (3, 3), activation='relu', padding='same')(x)\n",
    "# x = Conv2D(128 * size, (3, 3), activation='relu', padding='same')(x)\n",
    "# x = BatchNormalization()(x)\n",
    "\n",
    "encoded = MaxPooling2D((2, 2))(x)\n",
    "\n",
    "x = Dense(128 * size, activation='relu')(encoded)\n",
    "x = Dense(128 * size, activation='relu')(x)\n",
    "x = Dense(128 * size, activation='relu')(x)\n",
    "# x = Conv2D(128 * size, (3, 3), activation='relu', padding='same')(x)\n",
    "# x = Conv2D(128 * size, (3, 3), activation='relu', padding='same')(x)\n",
    "# x = Conv2D(128 * size, (3, 3), activation='relu', padding='same')(x)\n",
    "# x = BatchNormalization()(x)\n",
    "x = UpSampling2D((2, 2))(x)\n",
    "# x = Conv2D(64 * size, (3, 3), activation='relu', padding='same')(x)\n",
    "# x = Conv2D(64 * size, (3, 3), activation='relu', padding='same')(x)\n",
    "# x = Conv2D(64 * size, (3, 3), activation='relu', padding='same')(x)\n",
    "# x = BatchNormalization()(x)\n",
    "x = UpSampling2D((2, 2))(x)\n",
    "x = Conv2D(32 * size, (3, 3), activation='relu', padding='same')(x)\n",
    "x = Conv2D(32 * size, (3, 3), activation='relu', padding='same')(x)\n",
    "x = Conv2D(32 * size, (3, 3), activation='relu', padding='same')(x)\n",
    "x = BatchNormalization()(x)\n",
    "x = UpSampling2D((2, 2))(x)\n",
    "x = Conv2D(16 * size, (3, 3), activation='relu', padding='same')(x)\n",
    "x = Conv2D(16 * size, (3, 3), activation='relu', padding='same')(x)\n",
    "x = Conv2D(16 * size, (3, 3), activation='relu', padding='same')(x)\n",
    "x = BatchNormalization()(x)\n",
    "x = UpSampling2D((2, 2))(x)\n",
    "x = Conv2D(8 * size, (3, 3), activation='relu', padding='same')(x)\n",
    "x = Conv2D(8 * size, (3, 3), activation='relu', padding='same')(x)\n",
    "x = Conv2D(8 * size, (3, 3), activation='relu', padding='same')(x)\n",
    "x = BatchNormalization()(x)\n",
    "x = UpSampling2D((2, 2))(x)\n",
    "\n",
    "decoded = Conv2D(3, (3, 3), activation='sigmoid', padding='same')(x)"
   ]
  },
  {
   "cell_type": "code",
   "execution_count": 6,
   "metadata": {},
   "outputs": [],
   "source": [
    "earlystopping = EarlyStopping(monitor='val_loss', mode='min', patience=10, restore_best_weights=True)"
   ]
  },
  {
   "cell_type": "code",
   "execution_count": 7,
   "metadata": {},
   "outputs": [],
   "source": [
    "encoder = Model(input_img, encoded)\n",
    "autoencoder = Model(input_img, decoded)\n",
    "autoencoder.compile(optimizer='adam', loss='binary_crossentropy')"
   ]
  },
  {
   "cell_type": "code",
   "execution_count": 8,
   "metadata": {
    "scrolled": false
   },
   "outputs": [
    {
     "name": "stdout",
     "output_type": "stream",
     "text": [
      "_________________________________________________________________\n",
      "Layer (type)                 Output Shape              Param #   \n",
      "=================================================================\n",
      "input_1 (InputLayer)         (None, 32, 32, 3)         0         \n",
      "_________________________________________________________________\n",
      "conv2d_1 (Conv2D)            (None, 32, 32, 8)         224       \n",
      "_________________________________________________________________\n",
      "conv2d_2 (Conv2D)            (None, 32, 32, 8)         584       \n",
      "_________________________________________________________________\n",
      "conv2d_3 (Conv2D)            (None, 32, 32, 8)         584       \n",
      "_________________________________________________________________\n",
      "batch_normalization_1 (Batch (None, 32, 32, 8)         32        \n",
      "_________________________________________________________________\n",
      "max_pooling2d_1 (MaxPooling2 (None, 16, 16, 8)         0         \n",
      "_________________________________________________________________\n",
      "conv2d_4 (Conv2D)            (None, 16, 16, 16)        1168      \n",
      "_________________________________________________________________\n",
      "conv2d_5 (Conv2D)            (None, 16, 16, 16)        2320      \n",
      "_________________________________________________________________\n",
      "conv2d_6 (Conv2D)            (None, 16, 16, 16)        2320      \n",
      "_________________________________________________________________\n",
      "batch_normalization_2 (Batch (None, 16, 16, 16)        64        \n",
      "_________________________________________________________________\n",
      "max_pooling2d_2 (MaxPooling2 (None, 8, 8, 16)          0         \n",
      "_________________________________________________________________\n",
      "conv2d_7 (Conv2D)            (None, 8, 8, 32)          4640      \n",
      "_________________________________________________________________\n",
      "conv2d_8 (Conv2D)            (None, 8, 8, 32)          9248      \n",
      "_________________________________________________________________\n",
      "conv2d_9 (Conv2D)            (None, 8, 8, 32)          9248      \n",
      "_________________________________________________________________\n",
      "batch_normalization_3 (Batch (None, 8, 8, 32)          128       \n",
      "_________________________________________________________________\n",
      "max_pooling2d_3 (MaxPooling2 (None, 4, 4, 32)          0         \n",
      "_________________________________________________________________\n",
      "conv2d_10 (Conv2D)           (None, 4, 4, 64)          18496     \n",
      "_________________________________________________________________\n",
      "conv2d_11 (Conv2D)           (None, 4, 4, 64)          36928     \n",
      "_________________________________________________________________\n",
      "conv2d_12 (Conv2D)           (None, 4, 4, 64)          36928     \n",
      "_________________________________________________________________\n",
      "batch_normalization_4 (Batch (None, 4, 4, 64)          256       \n",
      "_________________________________________________________________\n",
      "max_pooling2d_4 (MaxPooling2 (None, 2, 2, 64)          0         \n",
      "_________________________________________________________________\n",
      "max_pooling2d_5 (MaxPooling2 (None, 1, 1, 64)          0         \n",
      "_________________________________________________________________\n",
      "dense_1 (Dense)              (None, 1, 1, 128)         8320      \n",
      "_________________________________________________________________\n",
      "dense_2 (Dense)              (None, 1, 1, 128)         16512     \n",
      "_________________________________________________________________\n",
      "dense_3 (Dense)              (None, 1, 1, 128)         16512     \n",
      "_________________________________________________________________\n",
      "up_sampling2d_1 (UpSampling2 (None, 2, 2, 128)         0         \n",
      "_________________________________________________________________\n",
      "up_sampling2d_2 (UpSampling2 (None, 4, 4, 128)         0         \n",
      "_________________________________________________________________\n",
      "conv2d_13 (Conv2D)           (None, 4, 4, 32)          36896     \n",
      "_________________________________________________________________\n",
      "conv2d_14 (Conv2D)           (None, 4, 4, 32)          9248      \n",
      "_________________________________________________________________\n",
      "conv2d_15 (Conv2D)           (None, 4, 4, 32)          9248      \n",
      "_________________________________________________________________\n",
      "batch_normalization_5 (Batch (None, 4, 4, 32)          128       \n",
      "_________________________________________________________________\n",
      "up_sampling2d_3 (UpSampling2 (None, 8, 8, 32)          0         \n",
      "_________________________________________________________________\n",
      "conv2d_16 (Conv2D)           (None, 8, 8, 16)          4624      \n",
      "_________________________________________________________________\n",
      "conv2d_17 (Conv2D)           (None, 8, 8, 16)          2320      \n",
      "_________________________________________________________________\n",
      "conv2d_18 (Conv2D)           (None, 8, 8, 16)          2320      \n",
      "_________________________________________________________________\n",
      "batch_normalization_6 (Batch (None, 8, 8, 16)          64        \n",
      "_________________________________________________________________\n",
      "up_sampling2d_4 (UpSampling2 (None, 16, 16, 16)        0         \n",
      "_________________________________________________________________\n",
      "conv2d_19 (Conv2D)           (None, 16, 16, 8)         1160      \n",
      "_________________________________________________________________\n",
      "conv2d_20 (Conv2D)           (None, 16, 16, 8)         584       \n",
      "_________________________________________________________________\n",
      "conv2d_21 (Conv2D)           (None, 16, 16, 8)         584       \n",
      "_________________________________________________________________\n",
      "batch_normalization_7 (Batch (None, 16, 16, 8)         32        \n",
      "_________________________________________________________________\n",
      "up_sampling2d_5 (UpSampling2 (None, 32, 32, 8)         0         \n",
      "_________________________________________________________________\n",
      "conv2d_22 (Conv2D)           (None, 32, 32, 3)         219       \n",
      "=================================================================\n",
      "Total params: 231,939\n",
      "Trainable params: 231,587\n",
      "Non-trainable params: 352\n",
      "_________________________________________________________________\n"
     ]
    }
   ],
   "source": [
    "autoencoder.summary()"
   ]
  },
  {
   "cell_type": "code",
   "execution_count": 9,
   "metadata": {
    "scrolled": false
   },
   "outputs": [
    {
     "name": "stdout",
     "output_type": "stream",
     "text": [
      "Train on 37500 samples, validate on 12500 samples\n",
      "Epoch 1/1000\n",
      "37500/37500 [==============================] - 10s 258us/step - loss: 0.6266 - val_loss: 0.6730\n",
      "Epoch 2/1000\n",
      "37500/37500 [==============================] - 8s 208us/step - loss: 0.6082 - val_loss: 0.6657\n",
      "Epoch 3/1000\n",
      "37500/37500 [==============================] - 7s 195us/step - loss: 0.6037 - val_loss: 0.6569\n",
      "Epoch 4/1000\n",
      "37500/37500 [==============================] - 7s 195us/step - loss: 0.6017 - val_loss: 0.6375\n",
      "Epoch 5/1000\n",
      "37500/37500 [==============================] - 8s 209us/step - loss: 0.6005 - val_loss: 0.6541\n",
      "Epoch 6/1000\n",
      "37500/37500 [==============================] - 7s 194us/step - loss: 0.5965 - val_loss: 0.6480\n",
      "Epoch 7/1000\n",
      "37500/37500 [==============================] - 8s 202us/step - loss: 0.5946 - val_loss: 0.6081\n",
      "Epoch 8/1000\n",
      "37500/37500 [==============================] - 8s 210us/step - loss: 0.5935 - val_loss: 0.6188\n",
      "Epoch 9/1000\n",
      "37500/37500 [==============================] - 7s 198us/step - loss: 0.5927 - val_loss: 0.6013\n",
      "Epoch 10/1000\n",
      "37500/37500 [==============================] - 8s 206us/step - loss: 0.5921 - val_loss: 0.6086\n",
      "Epoch 11/1000\n",
      "37500/37500 [==============================] - 8s 201us/step - loss: 0.5916 - val_loss: 0.6175\n",
      "Epoch 12/1000\n",
      "37500/37500 [==============================] - 7s 198us/step - loss: 0.5913 - val_loss: 0.6090\n",
      "Epoch 13/1000\n",
      "37500/37500 [==============================] - 7s 199us/step - loss: 0.5906 - val_loss: 0.6151\n",
      "Epoch 14/1000\n",
      "37500/37500 [==============================] - 8s 207us/step - loss: 0.5906 - val_loss: 0.6336\n",
      "Epoch 15/1000\n",
      "37500/37500 [==============================] - 7s 200us/step - loss: 0.5902 - val_loss: 0.5987\n",
      "Epoch 16/1000\n",
      "37500/37500 [==============================] - 8s 205us/step - loss: 0.5900 - val_loss: 0.6133\n",
      "Epoch 17/1000\n",
      "37500/37500 [==============================] - 8s 203us/step - loss: 0.5899 - val_loss: 0.6104\n",
      "Epoch 18/1000\n",
      "37500/37500 [==============================] - 8s 206us/step - loss: 0.5898 - val_loss: 0.6067\n",
      "Epoch 19/1000\n",
      "37500/37500 [==============================] - 8s 210us/step - loss: 0.5891 - val_loss: 0.5923\n",
      "Epoch 20/1000\n",
      "37500/37500 [==============================] - 8s 205us/step - loss: 0.5890 - val_loss: 0.6072\n",
      "Epoch 21/1000\n",
      "37500/37500 [==============================] - 8s 213us/step - loss: 0.5888 - val_loss: 0.6158\n",
      "Epoch 22/1000\n",
      "37500/37500 [==============================] - 8s 216us/step - loss: 0.5888 - val_loss: 0.5917\n",
      "Epoch 23/1000\n",
      "37500/37500 [==============================] - 8s 211us/step - loss: 0.5886 - val_loss: 0.5992\n",
      "Epoch 24/1000\n",
      "37500/37500 [==============================] - 7s 198us/step - loss: 0.5886 - val_loss: 0.5949\n",
      "Epoch 25/1000\n",
      "37500/37500 [==============================] - 7s 198us/step - loss: 0.5885 - val_loss: 0.5928\n",
      "Epoch 26/1000\n",
      "37500/37500 [==============================] - 7s 198us/step - loss: 0.5883 - val_loss: 0.6000\n",
      "Epoch 27/1000\n",
      "37500/37500 [==============================] - 7s 198us/step - loss: 0.5883 - val_loss: 0.5975\n",
      "Epoch 28/1000\n",
      "37500/37500 [==============================] - 8s 202us/step - loss: 0.5879 - val_loss: 0.5959\n",
      "Epoch 29/1000\n",
      "37500/37500 [==============================] - 8s 201us/step - loss: 0.5876 - val_loss: 0.5890\n",
      "Epoch 30/1000\n",
      "37500/37500 [==============================] - 8s 200us/step - loss: 0.5875 - val_loss: 0.5925\n",
      "Epoch 31/1000\n",
      "37500/37500 [==============================] - 8s 202us/step - loss: 0.5869 - val_loss: 0.5888\n",
      "Epoch 32/1000\n",
      "37500/37500 [==============================] - 8s 202us/step - loss: 0.5866 - val_loss: 0.5990\n",
      "Epoch 33/1000\n",
      "37500/37500 [==============================] - 8s 210us/step - loss: 0.5866 - val_loss: 0.5885\n",
      "Epoch 34/1000\n",
      "37500/37500 [==============================] - 8s 202us/step - loss: 0.5865 - val_loss: 0.5907\n",
      "Epoch 35/1000\n",
      "37500/37500 [==============================] - 8s 202us/step - loss: 0.5864 - val_loss: 0.5971\n",
      "Epoch 36/1000\n",
      "37500/37500 [==============================] - 8s 204us/step - loss: 0.5864 - val_loss: 0.5903\n",
      "Epoch 37/1000\n",
      "37500/37500 [==============================] - 8s 202us/step - loss: 0.5866 - val_loss: 0.5883\n",
      "Epoch 38/1000\n",
      "37500/37500 [==============================] - 8s 214us/step - loss: 0.5864 - val_loss: 0.5986\n",
      "Epoch 39/1000\n",
      "37500/37500 [==============================] - 8s 214us/step - loss: 0.5864 - val_loss: 0.5904\n",
      "Epoch 40/1000\n",
      "37500/37500 [==============================] - 8s 205us/step - loss: 0.5859 - val_loss: 0.5870\n",
      "Epoch 41/1000\n",
      "37500/37500 [==============================] - 8s 215us/step - loss: 0.5857 - val_loss: 0.5866\n",
      "Epoch 42/1000\n",
      "37500/37500 [==============================] - 8s 203us/step - loss: 0.5858 - val_loss: 0.5890\n",
      "Epoch 43/1000\n",
      "37500/37500 [==============================] - 8s 218us/step - loss: 0.5856 - val_loss: 0.5882\n",
      "Epoch 44/1000\n",
      "37500/37500 [==============================] - 8s 214us/step - loss: 0.5856 - val_loss: 0.5923\n",
      "Epoch 45/1000\n",
      "37500/37500 [==============================] - 8s 202us/step - loss: 0.5854 - val_loss: 0.5898\n",
      "Epoch 46/1000\n",
      "37500/37500 [==============================] - 8s 202us/step - loss: 0.5855 - val_loss: 0.5901\n",
      "Epoch 47/1000\n",
      "37500/37500 [==============================] - 8s 212us/step - loss: 0.5854 - val_loss: 0.5895\n",
      "Epoch 48/1000\n",
      "37500/37500 [==============================] - 8s 219us/step - loss: 0.5853 - val_loss: 0.5880\n",
      "Epoch 49/1000\n",
      "37500/37500 [==============================] - 8s 216us/step - loss: 0.5854 - val_loss: 0.5865\n",
      "Epoch 50/1000\n",
      "37500/37500 [==============================] - 8s 206us/step - loss: 0.5854 - val_loss: 0.5870\n",
      "Epoch 51/1000\n",
      "37500/37500 [==============================] - 8s 213us/step - loss: 0.5852 - val_loss: 0.5890\n",
      "Epoch 52/1000\n",
      "37500/37500 [==============================] - 8s 211us/step - loss: 0.5849 - val_loss: 0.5881\n",
      "Epoch 53/1000\n",
      "37500/37500 [==============================] - 8s 200us/step - loss: 0.5847 - val_loss: 0.5940\n",
      "Epoch 54/1000\n",
      "37500/37500 [==============================] - 8s 203us/step - loss: 0.5848 - val_loss: 0.5870\n",
      "Epoch 55/1000\n",
      "37500/37500 [==============================] - 8s 202us/step - loss: 0.5847 - val_loss: 0.5860\n",
      "Epoch 56/1000\n",
      "37500/37500 [==============================] - 8s 213us/step - loss: 0.5846 - val_loss: 0.5907\n",
      "Epoch 57/1000\n",
      "37500/37500 [==============================] - 8s 202us/step - loss: 0.5845 - val_loss: 0.5919\n",
      "Epoch 58/1000\n",
      "37500/37500 [==============================] - 8s 204us/step - loss: 0.5846 - val_loss: 0.5918\n",
      "Epoch 59/1000\n",
      "37500/37500 [==============================] - 8s 207us/step - loss: 0.5846 - val_loss: 0.5890\n",
      "Epoch 60/1000\n",
      "37500/37500 [==============================] - 8s 214us/step - loss: 0.5844 - val_loss: 0.5859\n",
      "Epoch 61/1000\n",
      "37500/37500 [==============================] - 8s 204us/step - loss: 0.5844 - val_loss: 0.5876\n",
      "Epoch 62/1000\n",
      "37500/37500 [==============================] - 8s 202us/step - loss: 0.5844 - val_loss: 0.5886\n",
      "Epoch 63/1000\n",
      "37500/37500 [==============================] - 8s 202us/step - loss: 0.5843 - val_loss: 0.5893\n",
      "Epoch 64/1000\n",
      "37500/37500 [==============================] - 8s 203us/step - loss: 0.5843 - val_loss: 0.5879\n",
      "Epoch 65/1000\n",
      "37500/37500 [==============================] - 8s 204us/step - loss: 0.5843 - val_loss: 0.5863\n",
      "Epoch 66/1000\n",
      "37500/37500 [==============================] - 8s 204us/step - loss: 0.5843 - val_loss: 0.5864\n",
      "Epoch 67/1000\n",
      "37500/37500 [==============================] - 8s 203us/step - loss: 0.5842 - val_loss: 0.5910\n",
      "Epoch 68/1000\n",
      "37500/37500 [==============================] - 8s 204us/step - loss: 0.5842 - val_loss: 0.5841\n",
      "Epoch 69/1000\n",
      "37500/37500 [==============================] - 8s 205us/step - loss: 0.5842 - val_loss: 0.5838\n",
      "Epoch 70/1000\n",
      "37500/37500 [==============================] - 8s 204us/step - loss: 0.5845 - val_loss: 0.5875\n",
      "Epoch 71/1000\n",
      "37500/37500 [==============================] - 8s 207us/step - loss: 0.5843 - val_loss: 0.5867\n",
      "Epoch 72/1000\n",
      "37500/37500 [==============================] - 8s 202us/step - loss: 0.5841 - val_loss: 0.5860\n",
      "Epoch 73/1000\n",
      "37500/37500 [==============================] - 8s 203us/step - loss: 0.5841 - val_loss: 0.5875\n",
      "Epoch 74/1000\n",
      "37500/37500 [==============================] - 8s 203us/step - loss: 0.5839 - val_loss: 0.5845\n",
      "Epoch 75/1000\n",
      "37500/37500 [==============================] - 8s 204us/step - loss: 0.5838 - val_loss: 0.5873\n"
     ]
    },
    {
     "name": "stdout",
     "output_type": "stream",
     "text": [
      "Epoch 76/1000\n",
      "37500/37500 [==============================] - 7s 196us/step - loss: 0.5836 - val_loss: 0.5852\n",
      "Epoch 77/1000\n",
      "37500/37500 [==============================] - 7s 197us/step - loss: 0.5836 - val_loss: 0.5898\n",
      "Epoch 78/1000\n",
      "37500/37500 [==============================] - 7s 197us/step - loss: 0.5835 - val_loss: 0.5891\n",
      "Epoch 79/1000\n",
      "37500/37500 [==============================] - 7s 196us/step - loss: 0.5836 - val_loss: 0.5870\n"
     ]
    },
    {
     "data": {
      "text/plain": [
       "<keras.callbacks.History at 0x7f961805e5c0>"
      ]
     },
     "execution_count": 9,
     "metadata": {},
     "output_type": "execute_result"
    }
   ],
   "source": [
    "autoencoder.fit(x_train, x_train,\n",
    "                epochs=1000,\n",
    "                batch_size=64,\n",
    "                shuffle=True,\n",
    "                validation_data=(x_val, x_val), \n",
    "                callbacks=[earlystopping])"
   ]
  },
  {
   "cell_type": "code",
   "execution_count": 10,
   "metadata": {},
   "outputs": [],
   "source": [
    "decoded_imgs = autoencoder.predict(x_test)"
   ]
  },
  {
   "cell_type": "code",
   "execution_count": 11,
   "metadata": {},
   "outputs": [
    {
     "data": {
      "text/plain": [
       "<matplotlib.image.AxesImage at 0x7f95a156e6a0>"
      ]
     },
     "execution_count": 11,
     "metadata": {},
     "output_type": "execute_result"
    },
    {
     "data": {
      "image/png": "[encoded data removed]",
      "text/plain": [
       "<Figure size 432x288 with 1 Axes>"
      ]
     },
     "metadata": {
      "needs_background": "light"
     },
     "output_type": "display_data"
    }
   ],
   "source": [
    "plt.imshow(decoded_imgs[0])"
   ]
  },
  {
   "cell_type": "code",
   "execution_count": 12,
   "metadata": {},
   "outputs": [
    {
     "data": {
      "text/plain": [
       "<matplotlib.image.AxesImage at 0x7f95a1827ef0>"
      ]
     },
     "execution_count": 12,
     "metadata": {},
     "output_type": "execute_result"
    },
    {
     "data": {
      "image/png": "[encoded data removed]",
      "text/plain": [
       "<Figure size 432x288 with 1 Axes>"
      ]
     },
     "metadata": {
      "needs_background": "light"
     },
     "output_type": "display_data"
    }
   ],
   "source": [
    "plt.imshow(x_test[0])"
   ]
  },
  {
   "cell_type": "code",
   "execution_count": 13,
   "metadata": {},
   "outputs": [
    {
     "data": {
      "text/plain": [
       "<matplotlib.image.AxesImage at 0x7f95a0446908>"
      ]
     },
     "execution_count": 13,
     "metadata": {},
     "output_type": "execute_result"
    },
    {
     "data": {
      "image/png": "[encoded data removed]",
      "text/plain": [
       "<Figure size 432x288 with 1 Axes>"
      ]
     },
     "metadata": {
      "needs_background": "light"
     },
     "output_type": "display_data"
    }
   ],
   "source": [
    "plt.imshow(decoded_imgs[1])"
   ]
  },
  {
   "cell_type": "code",
   "execution_count": 14,
   "metadata": {},
   "outputs": [
    {
     "data": {
      "text/plain": [
       "<matplotlib.image.AxesImage at 0x7f95a042e160>"
      ]
     },
     "execution_count": 14,
     "metadata": {},
     "output_type": "execute_result"
    },
    {
     "data": {
      "image/png": "[encoded data removed]",
      "text/plain": [
       "<Figure size 432x288 with 1 Axes>"
      ]
     },
     "metadata": {
      "needs_background": "light"
     },
     "output_type": "display_data"
    }
   ],
   "source": [
    "plt.imshow(x_test[1])"
   ]
  },
  {
   "cell_type": "code",
   "execution_count": 15,
   "metadata": {},
   "outputs": [],
   "source": [
    "encoded_imgs = encoder.predict(x_train_val)"
   ]
  },
  {
   "cell_type": "code",
   "execution_count": 16,
   "metadata": {},
   "outputs": [
    {
     "data": {
      "text/plain": [
       "(50000, 1, 1, 64)"
      ]
     },
     "execution_count": 16,
     "metadata": {},
     "output_type": "execute_result"
    }
   ],
   "source": [
    "encoded_imgs.shape"
   ]
  },
  {
   "cell_type": "code",
   "execution_count": 17,
   "metadata": {},
   "outputs": [],
   "source": [
    "encoded_imgs = encoded_imgs.reshape(encoded_imgs.shape[0], \n",
    "                                    encoded_imgs.shape[1] *\n",
    "                                    encoded_imgs.shape[2] * \n",
    "                                    encoded_imgs.shape[3])"
   ]
  },
  {
   "cell_type": "code",
   "execution_count": 18,
   "metadata": {},
   "outputs": [
    {
     "data": {
      "text/plain": [
       "(50000, 64)"
      ]
     },
     "execution_count": 18,
     "metadata": {},
     "output_type": "execute_result"
    }
   ],
   "source": [
    "encoded_imgs.shape"
   ]
  },
  {
   "cell_type": "code",
   "execution_count": 19,
   "metadata": {},
   "outputs": [],
   "source": [
    "np.save('encode-features-flat.npy', encoded_imgs)"
   ]
  },
  {
   "cell_type": "code",
   "execution_count": null,
   "metadata": {},
   "outputs": [],
   "source": []
  }
 ],
 "metadata": {
  "kernelspec": {
   "display_name": "Python 3",
   "language": "python",
   "name": "python3"
  },
  "language_info": {
   "codemirror_mode": {
    "name": "ipython",
    "version": 3
   },
   "file_extension": ".py",
   "mimetype": "text/x-python",
   "name": "python",
   "nbconvert_exporter": "python",
   "pygments_lexer": "ipython3",
   "version": "3.6.7"
  }
 },
 "nbformat": 4,
 "nbformat_minor": 2
}

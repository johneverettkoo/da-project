{
 "cells": [
  {
   "cell_type": "markdown",
   "metadata": {},
   "source": [
    "Largely based on https://blog.keras.io/building-autoencoders-in-keras.html\n",
    "\n",
    "Using a U-Net based architecture (https://arxiv.org/abs/1505.04597)"
   ]
  },
  {
   "cell_type": "code",
   "execution_count": 1,
   "metadata": {},
   "outputs": [
    {
     "name": "stderr",
     "output_type": "stream",
     "text": [
      "Using TensorFlow backend.\n"
     ]
    }
   ],
   "source": [
    "import numpy as np\n",
    "import os\n",
    "from matplotlib import pyplot as plt\n",
    "from keras.layers import Input, Dense, Conv2D, MaxPooling2D, UpSampling2D, BatchNormalization\n",
    "from keras.models import Model\n",
    "from keras import backend as K\n",
    "from keras.datasets import cifar10\n",
    "from sklearn.model_selection import train_test_split\n",
    "from keras.callbacks import EarlyStopping"
   ]
  },
  {
   "cell_type": "code",
   "execution_count": 2,
   "metadata": {},
   "outputs": [],
   "source": [
    "size = 2"
   ]
  },
  {
   "cell_type": "code",
   "execution_count": 3,
   "metadata": {},
   "outputs": [],
   "source": [
    "(x_train_val, y_train_val), (x_test, y_test) = cifar10.load_data()\n",
    "\n",
    "x_train_val = x_train_val / 255.\n",
    "x_test = x_test / 255."
   ]
  },
  {
   "cell_type": "code",
   "execution_count": 4,
   "metadata": {},
   "outputs": [],
   "source": [
    "x_train, x_val, y_train, y_val = train_test_split(x_train_val, y_train_val, random_state=314159)"
   ]
  },
  {
   "cell_type": "code",
   "execution_count": 5,
   "metadata": {},
   "outputs": [],
   "source": [
    "input_img = Input(shape=(x_train.shape[1], x_train.shape[2], x_train.shape[3]))\n",
    "\n",
    "x = Conv2D(8 * size, (3, 3), activation='relu', padding='same')(input_img)\n",
    "x = Conv2D(8 * size, (3, 3), activation='relu', padding='same')(x)\n",
    "x = Conv2D(8 * size, (3, 3), activation='relu', padding='same')(x)\n",
    "x = BatchNormalization()(x)\n",
    "x = MaxPooling2D((2, 2))(x)\n",
    "x = Conv2D(16 * size, (3, 3), activation='relu', padding='same')(x)\n",
    "x = Conv2D(16 * size, (3, 3), activation='relu', padding='same')(x)\n",
    "x = Conv2D(16 * size, (3, 3), activation='relu', padding='same')(x)\n",
    "x = BatchNormalization()(x)\n",
    "x = MaxPooling2D((2, 2))(x)\n",
    "x = Conv2D(32 * size, (3, 3), activation='relu', padding='same')(x)\n",
    "x = Conv2D(32 * size, (3, 3), activation='relu', padding='same')(x)\n",
    "x = Conv2D(32 * size, (3, 3), activation='relu', padding='same')(x)\n",
    "x = BatchNormalization()(x)\n",
    "# x = MaxPooling2D((2, 2))(x)\n",
    "# x = Conv2D(64 * size, (3, 3), activation='relu', padding='same')(x)\n",
    "# x = Conv2D(64 * size, (3, 3), activation='relu', padding='same')(x)\n",
    "# x = Conv2D(64 * size, (3, 3), activation='relu', padding='same')(x)\n",
    "# x = BatchNormalization()(x)\n",
    "# x = MaxPooling2D((2, 2))(x)\n",
    "# x = Conv2D(128 * size, (3, 3), activation='relu', padding='same')(x)\n",
    "# x = Conv2D(128 * size, (3, 3), activation='relu', padding='same')(x)\n",
    "# x = Conv2D(128 * size, (3, 3), activation='relu', padding='same')(x)\n",
    "# x = BatchNormalization()(x)\n",
    "\n",
    "encoded = MaxPooling2D((2, 2))(x)\n",
    "\n",
    "# x = Conv2D(128 * size, (3, 3), activation='relu', padding='same')(encoded)\n",
    "# x = Conv2D(128 * size, (3, 3), activation='relu', padding='same')(x)\n",
    "# x = Conv2D(128 * size, (3, 3), activation='relu', padding='same')(x)\n",
    "# x = BatchNormalization()(x)\n",
    "# x = UpSampling2D((2, 2))(x)\n",
    "# x = Conv2D(64 * size, (3, 3), activation='relu', padding='same')(x)\n",
    "# x = Conv2D(64 * size, (3, 3), activation='relu', padding='same')(x)\n",
    "# x = Conv2D(64 * size, (3, 3), activation='relu', padding='same')(x)\n",
    "# x = BatchNormalization()(x)\n",
    "# x = UpSampling2D((2, 2))(x)\n",
    "# x = Conv2D(32 * size, (3, 3), activation='relu', padding='same')(x)\n",
    "x = Conv2D(32 * size, (3, 3), activation='relu', padding='same')(encoded)\n",
    "x = Conv2D(32 * size, (3, 3), activation='relu', padding='same')(x)\n",
    "x = Conv2D(32 * size, (3, 3), activation='relu', padding='same')(x)\n",
    "x = BatchNormalization()(x)\n",
    "x = UpSampling2D((2, 2))(x)\n",
    "x = Conv2D(16 * size, (3, 3), activation='relu', padding='same')(x)\n",
    "x = Conv2D(16 * size, (3, 3), activation='relu', padding='same')(x)\n",
    "x = Conv2D(16 * size, (3, 3), activation='relu', padding='same')(x)\n",
    "x = BatchNormalization()(x)\n",
    "x = UpSampling2D((2, 2))(x)\n",
    "x = Conv2D(8 * size, (3, 3), activation='relu', padding='same')(x)\n",
    "x = Conv2D(8 * size, (3, 3), activation='relu', padding='same')(x)\n",
    "x = Conv2D(8 * size, (3, 3), activation='relu', padding='same')(x)\n",
    "x = BatchNormalization()(x)\n",
    "x = UpSampling2D((2, 2))(x)\n",
    "\n",
    "decoded = Conv2D(3, (3, 3), activation='sigmoid', padding='same')(x)"
   ]
  },
  {
   "cell_type": "code",
   "execution_count": 6,
   "metadata": {},
   "outputs": [],
   "source": [
    "earlystopping = EarlyStopping(monitor='val_loss', mode='min', patience=10, restore_best_weights=True)"
   ]
  },
  {
   "cell_type": "code",
   "execution_count": 7,
   "metadata": {},
   "outputs": [],
   "source": [
    "encoder = Model(input_img, encoded)\n",
    "autoencoder = Model(input_img, decoded)\n",
    "autoencoder.compile(optimizer='adam', loss='binary_crossentropy')"
   ]
  },
  {
   "cell_type": "code",
   "execution_count": 8,
   "metadata": {},
   "outputs": [
    {
     "name": "stdout",
     "output_type": "stream",
     "text": [
      "_________________________________________________________________\n",
      "Layer (type)                 Output Shape              Param #   \n",
      "=================================================================\n",
      "input_1 (InputLayer)         (None, 32, 32, 3)         0         \n",
      "_________________________________________________________________\n",
      "conv2d_1 (Conv2D)            (None, 32, 32, 16)        448       \n",
      "_________________________________________________________________\n",
      "conv2d_2 (Conv2D)            (None, 32, 32, 16)        2320      \n",
      "_________________________________________________________________\n",
      "conv2d_3 (Conv2D)            (None, 32, 32, 16)        2320      \n",
      "_________________________________________________________________\n",
      "batch_normalization_1 (Batch (None, 32, 32, 16)        64        \n",
      "_________________________________________________________________\n",
      "max_pooling2d_1 (MaxPooling2 (None, 16, 16, 16)        0         \n",
      "_________________________________________________________________\n",
      "conv2d_4 (Conv2D)            (None, 16, 16, 32)        4640      \n",
      "_________________________________________________________________\n",
      "conv2d_5 (Conv2D)            (None, 16, 16, 32)        9248      \n",
      "_________________________________________________________________\n",
      "conv2d_6 (Conv2D)            (None, 16, 16, 32)        9248      \n",
      "_________________________________________________________________\n",
      "batch_normalization_2 (Batch (None, 16, 16, 32)        128       \n",
      "_________________________________________________________________\n",
      "max_pooling2d_2 (MaxPooling2 (None, 8, 8, 32)          0         \n",
      "_________________________________________________________________\n",
      "conv2d_7 (Conv2D)            (None, 8, 8, 64)          18496     \n",
      "_________________________________________________________________\n",
      "conv2d_8 (Conv2D)            (None, 8, 8, 64)          36928     \n",
      "_________________________________________________________________\n",
      "conv2d_9 (Conv2D)            (None, 8, 8, 64)          36928     \n",
      "_________________________________________________________________\n",
      "batch_normalization_3 (Batch (None, 8, 8, 64)          256       \n",
      "_________________________________________________________________\n",
      "max_pooling2d_3 (MaxPooling2 (None, 4, 4, 64)          0         \n",
      "_________________________________________________________________\n",
      "conv2d_10 (Conv2D)           (None, 4, 4, 64)          36928     \n",
      "_________________________________________________________________\n",
      "conv2d_11 (Conv2D)           (None, 4, 4, 64)          36928     \n",
      "_________________________________________________________________\n",
      "conv2d_12 (Conv2D)           (None, 4, 4, 64)          36928     \n",
      "_________________________________________________________________\n",
      "batch_normalization_4 (Batch (None, 4, 4, 64)          256       \n",
      "_________________________________________________________________\n",
      "up_sampling2d_1 (UpSampling2 (None, 8, 8, 64)          0         \n",
      "_________________________________________________________________\n",
      "conv2d_13 (Conv2D)           (None, 8, 8, 32)          18464     \n",
      "_________________________________________________________________\n",
      "conv2d_14 (Conv2D)           (None, 8, 8, 32)          9248      \n",
      "_________________________________________________________________\n",
      "conv2d_15 (Conv2D)           (None, 8, 8, 32)          9248      \n",
      "_________________________________________________________________\n",
      "batch_normalization_5 (Batch (None, 8, 8, 32)          128       \n",
      "_________________________________________________________________\n",
      "up_sampling2d_2 (UpSampling2 (None, 16, 16, 32)        0         \n",
      "_________________________________________________________________\n",
      "conv2d_16 (Conv2D)           (None, 16, 16, 16)        4624      \n",
      "_________________________________________________________________\n",
      "conv2d_17 (Conv2D)           (None, 16, 16, 16)        2320      \n",
      "_________________________________________________________________\n",
      "conv2d_18 (Conv2D)           (None, 16, 16, 16)        2320      \n",
      "_________________________________________________________________\n",
      "batch_normalization_6 (Batch (None, 16, 16, 16)        64        \n",
      "_________________________________________________________________\n",
      "up_sampling2d_3 (UpSampling2 (None, 32, 32, 16)        0         \n",
      "_________________________________________________________________\n",
      "conv2d_19 (Conv2D)           (None, 32, 32, 3)         435       \n",
      "=================================================================\n",
      "Total params: 278,915\n",
      "Trainable params: 278,467\n",
      "Non-trainable params: 448\n",
      "_________________________________________________________________\n"
     ]
    }
   ],
   "source": [
    "autoencoder.summary()"
   ]
  },
  {
   "cell_type": "code",
   "execution_count": 9,
   "metadata": {
    "scrolled": true
   },
   "outputs": [
    {
     "name": "stdout",
     "output_type": "stream",
     "text": [
      "Train on 37500 samples, validate on 12500 samples\n",
      "Epoch 1/1000\n",
      "37500/37500 [==============================] - 14s 370us/step - loss: 0.5955 - val_loss: 0.6597\n",
      "Epoch 2/1000\n",
      "37500/37500 [==============================] - 12s 326us/step - loss: 0.5757 - val_loss: 0.6059\n",
      "Epoch 3/1000\n",
      "37500/37500 [==============================] - 12s 330us/step - loss: 0.5711 - val_loss: 0.5766\n",
      "Epoch 4/1000\n",
      "37500/37500 [==============================] - 12s 312us/step - loss: 0.5683 - val_loss: 0.5848\n",
      "Epoch 5/1000\n",
      "37500/37500 [==============================] - 12s 310us/step - loss: 0.5660 - val_loss: 0.5913\n",
      "Epoch 6/1000\n",
      "37500/37500 [==============================] - 12s 310us/step - loss: 0.5638 - val_loss: 0.5717\n",
      "Epoch 7/1000\n",
      "37500/37500 [==============================] - 12s 314us/step - loss: 0.5625 - val_loss: 0.5676\n",
      "Epoch 8/1000\n",
      "37500/37500 [==============================] - 12s 314us/step - loss: 0.5617 - val_loss: 0.5651\n",
      "Epoch 9/1000\n",
      "37500/37500 [==============================] - 12s 319us/step - loss: 0.5611 - val_loss: 0.5616\n",
      "Epoch 10/1000\n",
      "37500/37500 [==============================] - 12s 320us/step - loss: 0.5607 - val_loss: 0.5634\n",
      "Epoch 11/1000\n",
      "37500/37500 [==============================] - 12s 316us/step - loss: 0.5602 - val_loss: 0.5635\n",
      "Epoch 12/1000\n",
      "37500/37500 [==============================] - 12s 318us/step - loss: 0.5597 - val_loss: 0.5641\n",
      "Epoch 13/1000\n",
      "37500/37500 [==============================] - 12s 314us/step - loss: 0.5594 - val_loss: 0.5630\n",
      "Epoch 14/1000\n",
      "37500/37500 [==============================] - 12s 314us/step - loss: 0.5590 - val_loss: 0.5628\n",
      "Epoch 15/1000\n",
      "37500/37500 [==============================] - 12s 319us/step - loss: 0.5585 - val_loss: 0.5624\n",
      "Epoch 16/1000\n",
      "37500/37500 [==============================] - 12s 318us/step - loss: 0.5582 - val_loss: 0.5620\n",
      "Epoch 17/1000\n",
      "37500/37500 [==============================] - 12s 318us/step - loss: 0.5578 - val_loss: 0.5580\n",
      "Epoch 18/1000\n",
      "37500/37500 [==============================] - 12s 316us/step - loss: 0.5578 - val_loss: 0.5592\n",
      "Epoch 19/1000\n",
      "37500/37500 [==============================] - 12s 316us/step - loss: 0.5576 - val_loss: 0.5592\n",
      "Epoch 20/1000\n",
      "37500/37500 [==============================] - 12s 317us/step - loss: 0.5574 - val_loss: 0.5649\n",
      "Epoch 21/1000\n",
      "37500/37500 [==============================] - 12s 317us/step - loss: 0.5571 - val_loss: 0.5585\n",
      "Epoch 22/1000\n",
      "37500/37500 [==============================] - 12s 317us/step - loss: 0.5569 - val_loss: 0.5570\n",
      "Epoch 23/1000\n",
      "37500/37500 [==============================] - 12s 314us/step - loss: 0.5569 - val_loss: 0.5588\n",
      "Epoch 24/1000\n",
      "37500/37500 [==============================] - 12s 316us/step - loss: 0.5568 - val_loss: 0.5573\n",
      "Epoch 25/1000\n",
      "37500/37500 [==============================] - 12s 316us/step - loss: 0.5566 - val_loss: 0.5602\n",
      "Epoch 26/1000\n",
      "37500/37500 [==============================] - 12s 320us/step - loss: 0.5565 - val_loss: 0.5567\n",
      "Epoch 27/1000\n",
      "37500/37500 [==============================] - 12s 320us/step - loss: 0.5563 - val_loss: 0.5576\n",
      "Epoch 28/1000\n",
      "37500/37500 [==============================] - 12s 315us/step - loss: 0.5563 - val_loss: 0.5566\n",
      "Epoch 29/1000\n",
      "37500/37500 [==============================] - 14s 370us/step - loss: 0.5562 - val_loss: 0.5597\n",
      "Epoch 30/1000\n",
      "37500/37500 [==============================] - 13s 344us/step - loss: 0.5560 - val_loss: 0.5561\n",
      "Epoch 31/1000\n",
      "37500/37500 [==============================] - 12s 314us/step - loss: 0.5559 - val_loss: 0.5558\n",
      "Epoch 32/1000\n",
      "37500/37500 [==============================] - 12s 329us/step - loss: 0.5559 - val_loss: 0.5560\n",
      "Epoch 33/1000\n",
      "37500/37500 [==============================] - 14s 365us/step - loss: 0.5557 - val_loss: 0.5550\n",
      "Epoch 34/1000\n",
      "37500/37500 [==============================] - 12s 331us/step - loss: 0.5556 - val_loss: 0.5568\n",
      "Epoch 35/1000\n",
      "37500/37500 [==============================] - 13s 345us/step - loss: 0.5555 - val_loss: 0.5560\n",
      "Epoch 36/1000\n",
      "37500/37500 [==============================] - 12s 320us/step - loss: 0.5554 - val_loss: 0.5630\n",
      "Epoch 37/1000\n",
      "37500/37500 [==============================] - 12s 318us/step - loss: 0.5553 - val_loss: 0.5572\n",
      "Epoch 38/1000\n",
      "37500/37500 [==============================] - 12s 316us/step - loss: 0.5552 - val_loss: 0.5564\n",
      "Epoch 39/1000\n",
      "37500/37500 [==============================] - 12s 320us/step - loss: 0.5552 - val_loss: 0.5553\n",
      "Epoch 40/1000\n",
      "37500/37500 [==============================] - 12s 317us/step - loss: 0.5553 - val_loss: 0.5565\n",
      "Epoch 41/1000\n",
      "37500/37500 [==============================] - 13s 335us/step - loss: 0.5551 - val_loss: 0.5559\n",
      "Epoch 42/1000\n",
      "37500/37500 [==============================] - 12s 325us/step - loss: 0.5550 - val_loss: 0.5566\n",
      "Epoch 43/1000\n",
      "37500/37500 [==============================] - 12s 328us/step - loss: 0.5550 - val_loss: 0.5566\n"
     ]
    },
    {
     "data": {
      "text/plain": [
       "<keras.callbacks.History at 0x7f7a32de6b38>"
      ]
     },
     "execution_count": 9,
     "metadata": {},
     "output_type": "execute_result"
    }
   ],
   "source": [
    "autoencoder.fit(x_train, x_train,\n",
    "                epochs=1000,\n",
    "                batch_size=64,\n",
    "                shuffle=True,\n",
    "                validation_data=(x_val, x_val), \n",
    "                callbacks=[earlystopping])"
   ]
  },
  {
   "cell_type": "code",
   "execution_count": 10,
   "metadata": {},
   "outputs": [],
   "source": [
    "decoded_imgs = autoencoder.predict(x_test)"
   ]
  },
  {
   "cell_type": "code",
   "execution_count": 11,
   "metadata": {},
   "outputs": [
    {
     "data": {
      "text/plain": [
       "<matplotlib.image.AxesImage at 0x7f79d0559a90>"
      ]
     },
     "execution_count": 11,
     "metadata": {},
     "output_type": "execute_result"
    },
    {
     "data": {
      "image/png": "[encoded data removed]",
      "text/plain": [
       "<Figure size 432x288 with 1 Axes>"
      ]
     },
     "metadata": {
      "needs_background": "light"
     },
     "output_type": "display_data"
    }
   ],
   "source": [
    "plt.imshow(decoded_imgs[0])"
   ]
  },
  {
   "cell_type": "code",
   "execution_count": 12,
   "metadata": {},
   "outputs": [
    {
     "data": {
      "text/plain": [
       "<matplotlib.image.AxesImage at 0x7f79d04ed198>"
      ]
     },
     "execution_count": 12,
     "metadata": {},
     "output_type": "execute_result"
    },
    {
     "data": {
      "image/png": "[encoded data removed]",
      "text/plain": [
       "<Figure size 432x288 with 1 Axes>"
      ]
     },
     "metadata": {
      "needs_background": "light"
     },
     "output_type": "display_data"
    }
   ],
   "source": [
    "plt.imshow(x_test[0])"
   ]
  },
  {
   "cell_type": "code",
   "execution_count": 13,
   "metadata": {},
   "outputs": [
    {
     "data": {
      "text/plain": [
       "<matplotlib.image.AxesImage at 0x7f79d044c6a0>"
      ]
     },
     "execution_count": 13,
     "metadata": {},
     "output_type": "execute_result"
    },
    {
     "data": {
      "image/png": "[encoded data removed]",
      "text/plain": [
       "<Figure size 432x288 with 1 Axes>"
      ]
     },
     "metadata": {
      "needs_background": "light"
     },
     "output_type": "display_data"
    }
   ],
   "source": [
    "plt.imshow(decoded_imgs[1])"
   ]
  },
  {
   "cell_type": "code",
   "execution_count": 14,
   "metadata": {},
   "outputs": [
    {
     "data": {
      "text/plain": [
       "<matplotlib.image.AxesImage at 0x7f79d042d6a0>"
      ]
     },
     "execution_count": 14,
     "metadata": {},
     "output_type": "execute_result"
    },
    {
     "data": {
      "image/png": "[encoded data removed]",
      "text/plain": [
       "<Figure size 432x288 with 1 Axes>"
      ]
     },
     "metadata": {
      "needs_background": "light"
     },
     "output_type": "display_data"
    }
   ],
   "source": [
    "plt.imshow(x_test[1])"
   ]
  },
  {
   "cell_type": "code",
   "execution_count": 17,
   "metadata": {},
   "outputs": [],
   "source": [
    "encoded_imgs = encoder.predict(x_train_val)"
   ]
  },
  {
   "cell_type": "code",
   "execution_count": 18,
   "metadata": {},
   "outputs": [
    {
     "data": {
      "text/plain": [
       "(50000, 4, 4, 64)"
      ]
     },
     "execution_count": 18,
     "metadata": {},
     "output_type": "execute_result"
    }
   ],
   "source": [
    "encoded_imgs.shape"
   ]
  },
  {
   "cell_type": "code",
   "execution_count": 21,
   "metadata": {},
   "outputs": [],
   "source": [
    "encoded_imgs = encoded_imgs.reshape(encoded_imgs.shape[0], \n",
    "                                    encoded_imgs.shape[1] *\n",
    "                                    encoded_imgs.shape[2] * \n",
    "                                    encoded_imgs.shape[3])"
   ]
  },
  {
   "cell_type": "code",
   "execution_count": 22,
   "metadata": {},
   "outputs": [
    {
     "data": {
      "text/plain": [
       "(50000, 1024)"
      ]
     },
     "execution_count": 22,
     "metadata": {},
     "output_type": "execute_result"
    }
   ],
   "source": [
    "encoded_imgs.shape"
   ]
  },
  {
   "cell_type": "code",
   "execution_count": 23,
   "metadata": {},
   "outputs": [],
   "source": [
    "np.save('encode-features.npy', encoded_imgs)"
   ]
  },
  {
   "cell_type": "code",
   "execution_count": null,
   "metadata": {},
   "outputs": [],
   "source": []
  }
 ],
 "metadata": {
  "kernelspec": {
   "display_name": "Python 3",
   "language": "python",
   "name": "python3"
  },
  "language_info": {
   "codemirror_mode": {
    "name": "ipython",
    "version": 3
   },
   "file_extension": ".py",
   "mimetype": "text/x-python",
   "name": "python",
   "nbconvert_exporter": "python",
   "pygments_lexer": "ipython3",
   "version": "3.6.7"
  }
 },
 "nbformat": 4,
 "nbformat_minor": 2
}
